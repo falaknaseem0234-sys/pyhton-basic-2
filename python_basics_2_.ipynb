{
  "nbformat": 4,
  "nbformat_minor": 0,
  "metadata": {
    "colab": {
      "provenance": []
    },
    "kernelspec": {
      "name": "python3",
      "display_name": "Python 3"
    },
    "language_info": {
      "name": "python"
    }
  },
  "cells": [
    {
      "cell_type": "markdown",
      "source": [
        "Python"
      ],
      "metadata": {
        "id": "kNqTqkuePZR0"
      }
    },
    {
      "cell_type": "markdown",
      "source": [
        "1.What is python,and why it is popular?\n",
        "   - Python is a high level,interpreted programming language known for its simple syntax,redability,versatility.It is popular because it is support multiple prgramming paradigms and has a large standard library.\n",
        "\n",
        "2.What is an interpreter in Python?\n",
        "  - An interpreter is a program that executes python code line by line, translating it into machine code at runtime.\n",
        "\n",
        "3.What are pre-defined keywords in python?\n",
        "  - Pre-defined keywords are reserved words in Python that have special meanings and cannot be used as identifiers.(e.g.. if,while).\n",
        "\n",
        "4.Can keywords be used as variables names?\n",
        "   - No keywords cannot be used as variable names because they are reserved for specific Python syntax and functionality.\n",
        "\n",
        "5.What is mutability in python?\n",
        "   - Mutability refers to whether an objects cotent can be changed after creation.Mutable objects can be modified.\n",
        "\n",
        "6.Why are lists mutable,but tuples are immutable?\n",
        "   - Lists are  designed to allow modification of their elements, while tuples are fixed in size and content to ensure data integrity.\n",
        "\n",
        "7.What is the difference between \"==\" and \"is\" operators in python?\n",
        "   - \"==\" checks if the values of two objects are equal, whereas \"is\" checks if they refer too same memory location.\n",
        "\n",
        "8.What are logical operators in Python?\n",
        "   - Logical operators (and,or.not) are used to combine conditional statements and control logical flow.\n",
        "\n",
        "9.What is type casting in python?\n",
        "   - Type casting is the process of convertinng one data type into another,such as from a string to an integer.\n",
        "\n",
        "10.What is the differnce between implicit and Explicit type casting?\n",
        "   - Implicit casting is done automatically by Python without data loss risk, while expilicit casting is manually done using functions like int() or float ().\n",
        "\n",
        "11.What is the purpose of conditional statements in Python?\n",
        "   - Conditional statements control program flow by executing specific code blocks only when certain conditions are met.\n",
        "\n",
        "12.How does the elif statement work?\n",
        "   - The elif statement checks an additional condition if the previous if  condition is false,allowing multiple condition checks in sequence.\n",
        "\n",
        "13.What is the difference between for and while loops?\n",
        "   - A for loops iterates over a sequence with a fixed numbers of iterations, while  a while loop runs as long as a condition remains true.\n",
        "\n",
        "14.Describe a scenario where a while loop is more suitable than a for loop?\n",
        "   - A while loop is better when the number of iterations is not known beforehand,such as reading user input until they enter \"exit\".\n",
        "\n",
        "\n",
        "\n",
        "\n",
        "\n",
        "    \n",
        "  \n"
      ],
      "metadata": {
        "id": "FBgTRebxPf4w"
      }
    },
    {
      "cell_type": "markdown",
      "source": [
        "1.Write a python program to print \"Hello World!\""
      ],
      "metadata": {
        "id": "MdykBYkReC7F"
      }
    },
    {
      "cell_type": "code",
      "source": [
        "print (\"Hello,World!\")\n"
      ],
      "metadata": {
        "id": "QkUgnA3CjdRT",
        "colab": {
          "base_uri": "https://localhost:8080/"
        },
        "outputId": "8eb47fc3-6323-4af4-c080-fb0f6b1d09a9"
      },
      "execution_count": 1,
      "outputs": [
        {
          "output_type": "stream",
          "name": "stdout",
          "text": [
            "Hello,World!\n"
          ]
        }
      ]
    },
    {
      "cell_type": "markdown",
      "source": [
        "2.Write a python program that displays your name and age."
      ],
      "metadata": {
        "id": "SgRkhhuJeUk_"
      }
    },
    {
      "cell_type": "code",
      "source": [
        "name = \"Falak\"\n",
        "age = 20\n",
        "print (f\"My name is {name} and I am {age} years old.\")"
      ],
      "metadata": {
        "id": "d0A_zPzPjesK",
        "colab": {
          "base_uri": "https://localhost:8080/"
        },
        "outputId": "f455f877-ed7b-46b8-945c-1e639931f9dd"
      },
      "execution_count": 2,
      "outputs": [
        {
          "output_type": "stream",
          "name": "stdout",
          "text": [
            "My name is Falak and I am 20 years old.\n"
          ]
        }
      ]
    },
    {
      "cell_type": "markdown",
      "source": [
        "3.Write code to print all the pre defined keywords in Python using the keyword library."
      ],
      "metadata": {
        "id": "F0AyrYb4emvd"
      }
    },
    {
      "cell_type": "code",
      "source": [
        "import keyword\n",
        "print (keyword.kwlist)"
      ],
      "metadata": {
        "id": "lJvTpqMTjLVc",
        "colab": {
          "base_uri": "https://localhost:8080/"
        },
        "outputId": "93620e5c-7753-4a2f-aa98-38691a471d43"
      },
      "execution_count": 3,
      "outputs": [
        {
          "output_type": "stream",
          "name": "stdout",
          "text": [
            "['False', 'None', 'True', 'and', 'as', 'assert', 'async', 'await', 'break', 'class', 'continue', 'def', 'del', 'elif', 'else', 'except', 'finally', 'for', 'from', 'global', 'if', 'import', 'in', 'is', 'lambda', 'nonlocal', 'not', 'or', 'pass', 'raise', 'return', 'try', 'while', 'with', 'yield']\n"
          ]
        }
      ]
    },
    {
      "cell_type": "markdown",
      "source": [
        "4.Write a program that checks if a given word is a python keyword."
      ],
      "metadata": {
        "id": "d8LMEgGNe2B0"
      }
    },
    {
      "cell_type": "code",
      "source": [
        "import keyword\n",
        "\n",
        "word = input(\"Enter a keyword:\")\n",
        "if keyword.iskeyword(word):\n",
        "  print(f\"{word} is a Python keyword.\")\n",
        "else:\n",
        "    print(f\"{word} is not a Python keyword.\")"
      ],
      "metadata": {
        "id": "id0CEN9jpRSc",
        "colab": {
          "base_uri": "https://localhost:8080/"
        },
        "outputId": "3fd69829-78a0-40d9-ef0c-2e6c64b2d724"
      },
      "execution_count": 4,
      "outputs": [
        {
          "output_type": "stream",
          "name": "stdout",
          "text": [
            "Enter a keyword:45\n",
            "45 is not a Python keyword.\n"
          ]
        }
      ]
    },
    {
      "cell_type": "markdown",
      "source": [
        "5.Create a list and tuple in python,and demonstrate how attempting to change an element works differently for each."
      ],
      "metadata": {
        "id": "fDkWb2fSfM39"
      }
    },
    {
      "cell_type": "code",
      "source": [
        "my_list = [1,2,3]\n",
        "my_list[0] = 100\n",
        "print(\"Modified list:\",my_list)\n",
        "my_tuple = (1,2,3)\n",
        "my_tuple[0] = 100\n",
        "print(\"Modified tuple:\",my_tuple)"
      ],
      "metadata": {
        "id": "bt7DVfm1pC16",
        "colab": {
          "base_uri": "https://localhost:8080/",
          "height": 219
        },
        "outputId": "c9c5a4f7-061a-4363-a0cb-67f6c6a312d5"
      },
      "execution_count": 5,
      "outputs": [
        {
          "output_type": "stream",
          "name": "stdout",
          "text": [
            "Modified list: [100, 2, 3]\n"
          ]
        },
        {
          "output_type": "error",
          "ename": "TypeError",
          "evalue": "'tuple' object does not support item assignment",
          "traceback": [
            "\u001b[0;31m---------------------------------------------------------------------------\u001b[0m",
            "\u001b[0;31mTypeError\u001b[0m                                 Traceback (most recent call last)",
            "\u001b[0;32m/tmp/ipython-input-452489255.py\u001b[0m in \u001b[0;36m<cell line: 0>\u001b[0;34m()\u001b[0m\n\u001b[1;32m      3\u001b[0m \u001b[0mprint\u001b[0m\u001b[0;34m(\u001b[0m\u001b[0;34m\"Modified list:\"\u001b[0m\u001b[0;34m,\u001b[0m\u001b[0mmy_list\u001b[0m\u001b[0;34m)\u001b[0m\u001b[0;34m\u001b[0m\u001b[0;34m\u001b[0m\u001b[0m\n\u001b[1;32m      4\u001b[0m \u001b[0mmy_tuple\u001b[0m \u001b[0;34m=\u001b[0m \u001b[0;34m(\u001b[0m\u001b[0;36m1\u001b[0m\u001b[0;34m,\u001b[0m\u001b[0;36m2\u001b[0m\u001b[0;34m,\u001b[0m\u001b[0;36m3\u001b[0m\u001b[0;34m)\u001b[0m\u001b[0;34m\u001b[0m\u001b[0;34m\u001b[0m\u001b[0m\n\u001b[0;32m----> 5\u001b[0;31m \u001b[0mmy_tuple\u001b[0m\u001b[0;34m[\u001b[0m\u001b[0;36m0\u001b[0m\u001b[0;34m]\u001b[0m \u001b[0;34m=\u001b[0m \u001b[0;36m100\u001b[0m\u001b[0;34m\u001b[0m\u001b[0;34m\u001b[0m\u001b[0m\n\u001b[0m\u001b[1;32m      6\u001b[0m \u001b[0mprint\u001b[0m\u001b[0;34m(\u001b[0m\u001b[0;34m\"Modified tuple:\"\u001b[0m\u001b[0;34m,\u001b[0m\u001b[0mmy_tuple\u001b[0m\u001b[0;34m)\u001b[0m\u001b[0;34m\u001b[0m\u001b[0;34m\u001b[0m\u001b[0m\n",
            "\u001b[0;31mTypeError\u001b[0m: 'tuple' object does not support item assignment"
          ]
        }
      ]
    },
    {
      "cell_type": "markdown",
      "source": [
        "6.Write a function to demonstrate the behavior of mutable and immutable arguments."
      ],
      "metadata": {
        "id": "nmMon0lNfzuk"
      }
    },
    {
      "cell_type": "code",
      "source": [
        "def modify_list(lst):\n",
        "  lst.append(100)\n",
        "def modify_string(s):\n",
        "  s += \" World\"\n",
        "my_list = [1,2,3]\n",
        "my_string = \"Hello\"\n",
        "modify_list(my_list)\n",
        "print(\"Modified list:\",my_list)\n",
        "modify_string(my_string)\n",
        "print(\"Modified string:\",my_string)\n"
      ],
      "metadata": {
        "id": "ogx1xoFfrVMJ",
        "colab": {
          "base_uri": "https://localhost:8080/"
        },
        "outputId": "223e373f-79b4-406f-ebe1-d27af7807a64"
      },
      "execution_count": 6,
      "outputs": [
        {
          "output_type": "stream",
          "name": "stdout",
          "text": [
            "Modified list: [1, 2, 3, 100]\n",
            "Modified string: Hello\n"
          ]
        }
      ]
    },
    {
      "cell_type": "markdown",
      "source": [
        "7.Write a program that perfoem basic arithmetic operations on two user input numbers."
      ],
      "metadata": {
        "id": "cIiPbesrjv99"
      }
    },
    {
      "cell_type": "code",
      "source": [
        "num1 = float(input(\"Enter the first number:\"))\n",
        "num2 = float(input(\"Enter the second number:\"))\n",
        "print(\"Addition:\",num1 + num2)\n",
        "print(\"Subtraction:\",num1 - num2)\n",
        "print(\"Multiplication:\",num1 * num2)\n",
        "print(\"Division:\",num1 / num2 if num2 != 0 else \"Division by zero is not allowed\")"
      ],
      "metadata": {
        "id": "hZSOZ4Km16Ai",
        "colab": {
          "base_uri": "https://localhost:8080/"
        },
        "outputId": "7c2ca443-29bc-41b7-f733-2edd6caa1d36"
      },
      "execution_count": 7,
      "outputs": [
        {
          "output_type": "stream",
          "name": "stdout",
          "text": [
            "Enter the first number:76\n",
            "Enter the second number:67\n",
            "Addition: 143.0\n",
            "Subtraction: 9.0\n",
            "Multiplication: 5092.0\n",
            "Division: 1.1343283582089552\n"
          ]
        }
      ]
    },
    {
      "cell_type": "markdown",
      "source": [
        "8.Write a program to deonstrate the use of logical operators."
      ],
      "metadata": {
        "id": "KWGGI4iGkVkN"
      }
    },
    {
      "cell_type": "code",
      "source": [
        "x = True\n",
        "y = False\n",
        "print(\"x\"and\"y:\",x and y)\n",
        "print(\"x\"or\"y:\",x or y)\n",
        "print(\"not x:\",not x)"
      ],
      "metadata": {
        "id": "H6WnR48R66On",
        "colab": {
          "base_uri": "https://localhost:8080/"
        },
        "outputId": "d76f0a61-1fd3-433b-9707-320d67f8bd47"
      },
      "execution_count": 8,
      "outputs": [
        {
          "output_type": "stream",
          "name": "stdout",
          "text": [
            "y: False\n",
            "x True\n",
            "not x: False\n"
          ]
        }
      ]
    },
    {
      "cell_type": "markdown",
      "source": [
        "9.Write a python program to convert user inout from string to integer,float,and boolean types."
      ],
      "metadata": {
        "id": "uZX3UgQ_lL6Q"
      }
    },
    {
      "cell_type": "code",
      "source": [
        "user_input = input(\"Enter a value: \")\n",
        "int_val = int(user_input)\n",
        "float_val = float(user_input)\n",
        "bool_val = bool(int_val)\n",
        "print(\" integer:\",int_val)\n",
        "print(\" float:\",float_val)\n",
        "print(\"boolean:\",bool_val)"
      ],
      "metadata": {
        "id": "gZCM2i-v8RG1",
        "colab": {
          "base_uri": "https://localhost:8080/"
        },
        "outputId": "a6ef288d-3934-4beb-8ac8-c9465f8d068b"
      },
      "execution_count": 9,
      "outputs": [
        {
          "output_type": "stream",
          "name": "stdout",
          "text": [
            "Enter a value: 45\n",
            " integer: 45\n",
            " float: 45.0\n",
            "boolean: True\n"
          ]
        }
      ]
    },
    {
      "cell_type": "markdown",
      "source": [
        "10.Write a code to demonstrate type casting with list elements."
      ],
      "metadata": {
        "id": "ThTjC1f-mee1"
      }
    },
    {
      "cell_type": "code",
      "source": [
        "str_list = [\"1\",\"2\",\"3\"]\n",
        "int_list = list(map(int,str_list))\n",
        "print(\"Integer list:\",int_list)"
      ],
      "metadata": {
        "id": "ewWcjg_F9FNK",
        "colab": {
          "base_uri": "https://localhost:8080/"
        },
        "outputId": "2706de4c-80da-4ce5-b732-88ff18eda60b"
      },
      "execution_count": 10,
      "outputs": [
        {
          "output_type": "stream",
          "name": "stdout",
          "text": [
            "Integer list: [1, 2, 3]\n"
          ]
        }
      ]
    },
    {
      "cell_type": "markdown",
      "source": [
        "11.Write a program that checks if a number is positive , negative, or zero."
      ],
      "metadata": {
        "id": "w8E3s5KBm1BK"
      }
    },
    {
      "cell_type": "code",
      "source": [
        "num = float(input(\"Enter a number:\"))\n",
        "if num > 0:\n",
        "  print(\"Positive number\")\n",
        "elif num < 0:\n",
        "  print(\"Negative number\")\n",
        "else:\n",
        "  print(\"Zero\")"
      ],
      "metadata": {
        "id": "ch-cJt2i_jrJ",
        "colab": {
          "base_uri": "https://localhost:8080/"
        },
        "outputId": "7ace9466-81e0-40c6-ee40-19997528acc1"
      },
      "execution_count": 11,
      "outputs": [
        {
          "output_type": "stream",
          "name": "stdout",
          "text": [
            "Enter a number:56\n",
            "Positive number\n"
          ]
        }
      ]
    },
    {
      "cell_type": "markdown",
      "source": [
        "12.Write a loop to print numbers from 1 to 10."
      ],
      "metadata": {
        "id": "wmfwj8tdnDJY"
      }
    },
    {
      "cell_type": "code",
      "source": [
        "for i in range(1,11):\n",
        "  print(i)"
      ],
      "metadata": {
        "id": "o7c46ueP_7G4",
        "colab": {
          "base_uri": "https://localhost:8080/"
        },
        "outputId": "1f316db9-e095-41ff-9e6e-a660d176fbac"
      },
      "execution_count": 12,
      "outputs": [
        {
          "output_type": "stream",
          "name": "stdout",
          "text": [
            "1\n",
            "2\n",
            "3\n",
            "4\n",
            "5\n",
            "6\n",
            "7\n",
            "8\n",
            "9\n",
            "10\n"
          ]
        }
      ]
    },
    {
      "cell_type": "markdown",
      "source": [
        "13.Write a python program to find the sum of all even numbers between 1 to 50."
      ],
      "metadata": {
        "id": "l_nx5jB7nNBQ"
      }
    },
    {
      "cell_type": "code",
      "source": [
        "total = 0\n",
        "for i in range(1,51):\n",
        "  if i % 2 == 0:\n",
        "    total += i\n",
        "    print(\"Sum of even numbers from 1 to 50:\", total)\n"
      ],
      "metadata": {
        "id": "JbREvxGHAGBB",
        "colab": {
          "base_uri": "https://localhost:8080/"
        },
        "outputId": "52e409d9-5afe-42f6-a529-bc649bc6627a"
      },
      "execution_count": 13,
      "outputs": [
        {
          "output_type": "stream",
          "name": "stdout",
          "text": [
            "Sum of even numbers from 1 to 50: 2\n",
            "Sum of even numbers from 1 to 50: 6\n",
            "Sum of even numbers from 1 to 50: 12\n",
            "Sum of even numbers from 1 to 50: 20\n",
            "Sum of even numbers from 1 to 50: 30\n",
            "Sum of even numbers from 1 to 50: 42\n",
            "Sum of even numbers from 1 to 50: 56\n",
            "Sum of even numbers from 1 to 50: 72\n",
            "Sum of even numbers from 1 to 50: 90\n",
            "Sum of even numbers from 1 to 50: 110\n",
            "Sum of even numbers from 1 to 50: 132\n",
            "Sum of even numbers from 1 to 50: 156\n",
            "Sum of even numbers from 1 to 50: 182\n",
            "Sum of even numbers from 1 to 50: 210\n",
            "Sum of even numbers from 1 to 50: 240\n",
            "Sum of even numbers from 1 to 50: 272\n",
            "Sum of even numbers from 1 to 50: 306\n",
            "Sum of even numbers from 1 to 50: 342\n",
            "Sum of even numbers from 1 to 50: 380\n",
            "Sum of even numbers from 1 to 50: 420\n",
            "Sum of even numbers from 1 to 50: 462\n",
            "Sum of even numbers from 1 to 50: 506\n",
            "Sum of even numbers from 1 to 50: 552\n",
            "Sum of even numbers from 1 to 50: 600\n",
            "Sum of even numbers from 1 to 50: 650\n"
          ]
        }
      ]
    },
    {
      "cell_type": "markdown",
      "source": [
        "14.Write a program to reverse a string using a while loop."
      ],
      "metadata": {
        "id": "QKZH02dtnznM"
      }
    },
    {
      "cell_type": "code",
      "source": [
        "string = \"Hello\"\n",
        "reversed_string = \"\"\n",
        "i = len(string )-1\n",
        "\n",
        "while i >=0:\n",
        "  reversed_string += string[i]\n",
        "  i -= 1\n",
        "  print(\"Reversed string:\",reversed_string)"
      ],
      "metadata": {
        "id": "Ay6mN8efCtl3",
        "colab": {
          "base_uri": "https://localhost:8080/"
        },
        "outputId": "6e5d96c6-321c-4c79-9e24-859a668cdc0b"
      },
      "execution_count": 14,
      "outputs": [
        {
          "output_type": "stream",
          "name": "stdout",
          "text": [
            "Reversed string: o\n",
            "Reversed string: ol\n",
            "Reversed string: oll\n",
            "Reversed string: olle\n",
            "Reversed string: olleH\n"
          ]
        }
      ]
    },
    {
      "cell_type": "markdown",
      "source": [
        "15.Write a python program to calculate the factorial of a number provided by the user using a while loop."
      ],
      "metadata": {
        "id": "2cQebe_9n-j9"
      }
    },
    {
      "cell_type": "code",
      "source": [
        "num = int (input (\"Enter a number to calculate its factorial:\"))\n",
        "factorial = 1\n",
        "i = 1\n",
        "while i <= num:\n",
        "  factorial *= i\n",
        "  i += 1\n",
        "  print(f\"Factorial of {num} is {factorial}\")\n"
      ],
      "metadata": {
        "id": "bRDjPPfqFS3T",
        "colab": {
          "base_uri": "https://localhost:8080/"
        },
        "outputId": "041db58b-36d7-440b-a9e5-01a9a4dab58a"
      },
      "execution_count": 15,
      "outputs": [
        {
          "output_type": "stream",
          "name": "stdout",
          "text": [
            "Enter a number to calculate its factorial:12\n",
            "Factorial of 12 is 1\n",
            "Factorial of 12 is 2\n",
            "Factorial of 12 is 6\n",
            "Factorial of 12 is 24\n",
            "Factorial of 12 is 120\n",
            "Factorial of 12 is 720\n",
            "Factorial of 12 is 5040\n",
            "Factorial of 12 is 40320\n",
            "Factorial of 12 is 362880\n",
            "Factorial of 12 is 3628800\n",
            "Factorial of 12 is 39916800\n",
            "Factorial of 12 is 479001600\n"
          ]
        }
      ]
    }
  ]
}